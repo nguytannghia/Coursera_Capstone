{
    "cells": [
        {
            "cell_type": "markdown",
            "metadata": {},
            "source": "### Week 4 Assignment Tasks\n*  description of the problem and a discussion of the background. (15 marks)\n* A description of the data and how it will be used to solve the problem. (15 marks)"
        },
        {
            "cell_type": "markdown",
            "metadata": {},
            "source": "<div id=\"the_battle_of_neighborhoods\">\n    <h1>The Battle of Neighborhoods</h1>\n</div>"
        },
        {
            "cell_type": "markdown",
            "metadata": {},
            "source": "<h1>Table of contents</h1>\n\n<div class=\"alert alert-block alert-info\" style=\"margin-top: 20px\">\n    <ol>\n        <li><a href=\"#introduction\">Introduction/Business Problem</a></li>\n        <ol>\n            <li><a href=\"#problem\">Problem</a></li>\n            <li><a href=\"#similarity\">Similarity</a></li>\n        </ol>\n        <li><a href=\"#data_collection\">Data Collection and Data Wrangling</a></li>\n        <ol>\n            <li><a href=\"#ny_data\">New York Data</a></li>\n            <li><a href=\"#toronto_data\">Toronto Data</a></li>\n        </ol>\n        <li><a href=\"#data_analysis\">Data Analysis</a></li>\n        <ol>\n            <li><a href=\"#common_venues\">Finding common venues in New York and Toronto</a></li>\n            <li><a href=\"#analyze_ny\">Analyze New York Data</a></li>\n            <li><a href=\"#analyze_toronto\">Analyze Toronto Data</a></li>\n        </ol>\n        <li><a href=\"#similar_neighborhood\">Finding Similar Neighborhood</a></li>\n        <ol>\n            <li><a href=\"#matrix_multiplication\">Matrix Multiplication</a></li>\n            <li><a href=\"#validate_matched\">Validate Matched Locations</a></li>\n        </ol>\n    </ol>\n</div>\n<br>\n<hr>\n"
        },
        {
            "cell_type": "markdown",
            "metadata": {},
            "source": "<div id=\"introduction\">\n    <h2>1. Introduction/Business Problem</h2>\n</div>\n<div id=\"problem\">\n    <h3>a. Problem</h3>\n</div>\n<div>\nMany people constantly seek new job opportunities within the same community they live in or across the city or even a different city itself. Let's say a person got an interesting job offer from a different city , say New York and he/she lives in Downtown Toronto currently. It would be really helpful to seek a place to live which is most similar to the current living location of that person. \n<p>Some of the popular location categories one might look for in the proximity of a living area are grocery stores, colleges or/and schools, parks, restaurants, coffee-shops, hospitals and other community areas like religious places, community halls, libraries, etc. So I\u2019ll find out what are borough-neighborhoods that are very similar to a person's current location. </p>\n<p>This information can help the person decide on which neighborhood he/she would love to live in once he/she moves to New York after accepting a new job offer.</p>\n</div>\n\n<div id=\"similarity\">\n    <h3>b. Similarity</h3>\n</div>\n<div>\nHow do we compare 2 cities and measure similarity? Fortunately, Foursquare offers venue category to each venue, this information can be used to count the number of venues for each category and compare it with all neighborhoods of New York.\n</div>"
        }
    ],
    "metadata": {
        "kernelspec": {
            "display_name": "Python 3.7",
            "language": "python",
            "name": "python3"
        },
        "language_info": {
            "codemirror_mode": {
                "name": "ipython",
                "version": 3
            },
            "file_extension": ".py",
            "mimetype": "text/x-python",
            "name": "python",
            "nbconvert_exporter": "python",
            "pygments_lexer": "ipython3",
            "version": "3.7.10"
        }
    },
    "nbformat": 4,
    "nbformat_minor": 4
}